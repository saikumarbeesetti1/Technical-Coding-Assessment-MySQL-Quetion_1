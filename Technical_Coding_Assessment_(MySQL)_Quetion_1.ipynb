{
  "cells": [
    {
      "cell_type": "code",
      "source": [],
      "metadata": {
        "id": "VCjDDy8xKA9y"
      },
      "execution_count": null,
      "outputs": []
    },
    {
      "cell_type": "markdown",
      "source": [
        "# Write a SQL statement to create a table named countries including columns country_id, country_name and region_id and make sure that no countries except Italy, India and China will be entered in the table."
      ],
      "metadata": {
        "id": "KdijetujKI44"
      }
    },
    {
      "cell_type": "code",
      "source": [
        "# Creating DataBase\n",
        "create database Countries;\n",
        "\n",
        "show databases;\n",
        "use  Countries;\n",
        "show tables;\n",
        "\n",
        "#Creating Tables\n",
        "create table countries(Country_ID int primary key,Country_Name varchar(25),Region_ID char(25));\n",
        "\n",
        "# Inserting Values\n",
        "insert into countries values(1,\"Italy\",\"ITA\");\n",
        "insert into countries values(2,\"India\",\"IND\");\n",
        "insert into countries values(3,\"China\",\"CHN\");\n",
        "\n",
        "#To view the table\n",
        "select * from countries;\n"
      ],
      "metadata": {
        "id": "Bk9WvREmKBBI"
      },
      "execution_count": null,
      "outputs": []
    },
    {
      "cell_type": "code",
      "source": [],
      "metadata": {
        "id": "JuZESUdSKBCY"
      },
      "execution_count": null,
      "outputs": []
    },
    {
      "cell_type": "code",
      "source": [],
      "metadata": {
        "id": "b81-ddV5KBD9"
      },
      "execution_count": null,
      "outputs": []
    },
    {
      "cell_type": "code",
      "source": [],
      "metadata": {
        "id": "iwDL1oKWKBFV"
      },
      "execution_count": null,
      "outputs": []
    },
    {
      "cell_type": "code",
      "source": [],
      "metadata": {
        "id": "_QMHsf0bKBGk"
      },
      "execution_count": null,
      "outputs": []
    },
    {
      "cell_type": "code",
      "source": [],
      "metadata": {
        "id": "m0S0ItNzKBH1"
      },
      "execution_count": null,
      "outputs": []
    },
    {
      "cell_type": "code",
      "source": [],
      "metadata": {
        "id": "6L3ow36RKBMs"
      },
      "execution_count": null,
      "outputs": []
    }
  ],
  "metadata": {
    "colab": {
      "collapsed_sections": [],
      "provenance": []
    },
    "kernelspec": {
      "display_name": "Python 3",
      "name": "python3"
    }
  },
  "nbformat": 4,
  "nbformat_minor": 0
}